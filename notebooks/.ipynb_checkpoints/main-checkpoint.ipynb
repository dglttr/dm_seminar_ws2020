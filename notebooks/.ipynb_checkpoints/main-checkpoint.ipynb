{
 "cells": [
  {
   "cell_type": "markdown",
   "metadata": {
    "collapsed": true,
    "pycharm": {
     "name": "#%% md\n"
    }
   },
   "source": [
    "# Imports"
   ]
  },
  {
   "cell_type": "code",
   "execution_count": 2,
   "metadata": {
    "pycharm": {
     "name": "#%%\n"
    }
   },
   "outputs": [],
   "source": [
    "import os\n",
    "\n",
    "import pandas as pd"
   ]
  },
  {
   "cell_type": "markdown",
   "metadata": {
    "pycharm": {
     "name": "#%% md\n"
    }
   },
   "source": [
    "# Constants"
   ]
  },
  {
   "cell_type": "code",
   "execution_count": 1,
   "metadata": {
    "pycharm": {
     "name": "#%%\n"
    }
   },
   "outputs": [],
   "source": [
    "TEST_TRAIN_SPLIT = 0.2\n",
    "\n",
    "DATA_DIRECTORY = r\"C:\\Users\\Daniel\\Documents\\Studium\\7. Semester (WS 2020.21)\\Seminar Data Mining in der Produktion\\Gruppenarbeit\\Data\"\n"
   ]
  },
  {
   "cell_type": "markdown",
   "metadata": {
    "pycharm": {
     "name": "#%% md\n"
    }
   },
   "source": [
    "# Load and preprocess data"
   ]
  },
  {
   "cell_type": "code",
   "execution_count": 3,
   "metadata": {
    "pycharm": {
     "name": "#%%\n"
    }
   },
   "outputs": [],
   "source": [
    "_filepaths = [DATA_DIRECTORY + \"/\" + filename for filename in os.listdir(DATA_DIRECTORY)]\n",
    "\n",
    "files = [pd.read_csv(path) for path in _filepaths]\n",
    "\n",
    "# Merge C13-1 and C13-2 as well as C7-1 and C7-2\n",
    "c13 = pd.concat([files[1], files[2]])\n",
    "c7 = pd.concat([files[6], files[7]])\n",
    "\n",
    "files[1] = c13\n",
    "files[6] = c7\n",
    "\n",
    "files.pop(2)\n",
    "files.pop(7)\n",
    "\n",
    "\n",
    "# Split train and test data -> first x% taken (not randomly)\n",
    "def split_df_not_randomly(df: pd.DataFrame):\n",
    "    split_index = int(len(df) * TEST_TRAIN_SPLIT)\n",
    "    return df[:split_index], df[split_index:]\n",
    "\n",
    "\n",
    "train_files, test_files = zip(*[split_df_not_randomly(df) for df in files])"
   ]
  },
  {
   "cell_type": "markdown",
   "metadata": {},
   "source": [
    "# "
   ]
  }
 ],
 "metadata": {
  "kernelspec": {
   "display_name": "Python 3",
   "language": "python",
   "name": "python3"
  },
  "language_info": {
   "codemirror_mode": {
    "name": "ipython",
    "version": 3
   },
   "file_extension": ".py",
   "mimetype": "text/x-python",
   "name": "python",
   "nbconvert_exporter": "python",
   "pygments_lexer": "ipython3",
   "version": "3.8.5"
  }
 },
 "nbformat": 4,
 "nbformat_minor": 1
}
